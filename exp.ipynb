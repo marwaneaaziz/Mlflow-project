{
 "cells": [
  {
   "cell_type": "code",
   "execution_count": 1,
   "metadata": {},
   "outputs": [
    {
     "name": "stdout",
     "output_type": "stream",
     "text": [
      "(1739, 227)\n"
     ]
    },
    {
     "name": "stderr",
     "output_type": "stream",
     "text": [
      "invalid value encountered in multiply\n",
      "invalid value encountered in subtract\n",
      "invalid value encountered in multiply\n",
      "invalid value encountered in subtract\n",
      "Permutation explainer: 1001it [02:10,  7.25it/s]                                                                       \n"
     ]
    }
   ],
   "source": [
    "import shap\n",
    "import pickle as pkl\n",
    "import pandas as pd\n",
    "\n",
    "# loading data\n",
    "\n",
    "test = pd.read_csv(r'test_data.csv')\n",
    "\n",
    "# loading the models\n",
    "\n",
    "with open('xgboost/model.pkl', 'rb') as f:\n",
    "                model = pkl.load(f)\n",
    "print(test.shape)\n",
    "background = shap.maskers.Independent(test[:1000])\n",
    "explainer = shap.Explainer(model.predict, background, link=shap.links.logit)\n",
    "shap_values = explainer(test[:1000])"
   ]
  },
  {
   "cell_type": "code",
   "execution_count": 2,
   "metadata": {},
   "outputs": [
    {
     "name": "stderr",
     "output_type": "stream",
     "text": [
      "Permutation explainer: 1001it [02:08,  7.20it/s]                                                                       \n"
     ]
    }
   ],
   "source": [
    "# explain the model's predictions using SHAP values\n",
    "background = shap.maskers.Independent(test[:1000])\n",
    "def f(x):\n",
    "    return shap.links.identity(model.predict_proba(x, validate_features=False)[:,1])\n",
    "explainer = shap.Explainer(f, background, link=shap.links.logit)\n",
    "shap_values = explainer(test[:1000])\n"
   ]
  },
  {
   "cell_type": "code",
   "execution_count": null,
   "metadata": {},
   "outputs": [],
   "source": [
    "\n",
    "# visualize the first prediction's explanation\n",
    "shap.plots.waterfall(shap_values[2])"
   ]
  },
  {
   "cell_type": "code",
   "execution_count": null,
   "metadata": {},
   "outputs": [],
   "source": []
  },
  {
   "cell_type": "code",
   "execution_count": null,
   "metadata": {},
   "outputs": [],
   "source": [
    "shap.plots.initjs()\n",
    "\n",
    "# visualize the first prediction's explanation\n",
    "shap.plots.force(shap_values[0])"
   ]
  },
  {
   "cell_type": "code",
   "execution_count": null,
   "metadata": {},
   "outputs": [],
   "source": [
    "# plot the global importance of each feature\n",
    "shap.plots.bar(shap_values[0])\n"
   ]
  },
  {
   "cell_type": "code",
   "execution_count": null,
   "metadata": {},
   "outputs": [],
   "source": [
    "# visualize the first prediction's explanation\n",
    "shap.plots.force(shap_values)"
   ]
  },
  {
   "cell_type": "code",
   "execution_count": null,
   "metadata": {},
   "outputs": [],
   "source": [
    "# plot the importance of a single feature across all samples\n",
    "shap.summary_plot(shap_values)"
   ]
  },
  {
   "cell_type": "code",
   "execution_count": null,
   "metadata": {},
   "outputs": [],
   "source": [
    "# plot the global importance of each feature\n",
    "shap.plots.bar(shap_values)"
   ]
  },
  {
   "cell_type": "code",
   "execution_count": null,
   "metadata": {},
   "outputs": [],
   "source": [
    "# plot the distribution of importances for each feature over all samples\n",
    "shap.plots.beeswarm(shap_values)"
   ]
  }
 ],
 "metadata": {
  "kernelspec": {
   "display_name": "projects_env_py3.8",
   "language": "python",
   "name": "projects_env_py3.8"
  },
  "language_info": {
   "codemirror_mode": {
    "name": "ipython",
    "version": 3
   },
   "file_extension": ".py",
   "mimetype": "text/x-python",
   "name": "python",
   "nbconvert_exporter": "python",
   "pygments_lexer": "ipython3",
   "version": "3.8.5"
  }
 },
 "nbformat": 4,
 "nbformat_minor": 4
}
